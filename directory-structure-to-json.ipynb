{
 "cells": [
  {
   "cell_type": "code",
   "execution_count": 1,
   "id": "97744f23-021f-4465-a19e-e12f215bffca",
   "metadata": {},
   "outputs": [
    {
     "data": {
      "application/vnd.jupyter.widget-view+json": {
       "model_id": "82aaf0203c3c4dfbaafc38c91eafc27b",
       "version_major": 2,
       "version_minor": 0
      },
      "text/plain": [
       "Text(value='', description='Directory:', placeholder='Enter directory path')"
      ]
     },
     "metadata": {},
     "output_type": "display_data"
    },
    {
     "data": {
      "application/vnd.jupyter.widget-view+json": {
       "model_id": "adac611a71544707ae479f0a11885304",
       "version_major": 2,
       "version_minor": 0
      },
      "text/plain": [
       "Button(button_style='info', description='Generate JSON', style=ButtonStyle(), tooltip='Click to generate JSON'…"
      ]
     },
     "metadata": {},
     "output_type": "display_data"
    },
    {
     "data": {
      "application/vnd.jupyter.widget-view+json": {
       "model_id": "e43031ad150c4e548d2701a273896165",
       "version_major": 2,
       "version_minor": 0
      },
      "text/plain": [
       "Output()"
      ]
     },
     "metadata": {},
     "output_type": "display_data"
    }
   ],
   "source": [
    "import os\n",
    "import json\n",
    "from functools import reduce\n",
    "import ipywidgets as widgets\n",
    "from IPython.display import display\n",
    "\n",
    "def get_directory_structure(rootdir):\n",
    "    \"\"\"\n",
    "    Creates a nested dictionary that represents the folder structure of rootdir\n",
    "    \"\"\"\n",
    "    dir_structure = {}\n",
    "    for root, dirs, files in os.walk(rootdir):\n",
    "        path = root.split(os.sep)\n",
    "        subdir = dict.fromkeys(files)\n",
    "        parent = reduce(lambda d, key: d.setdefault(key, {}), path[1:], dir_structure)\n",
    "        parent.update(subdir)\n",
    "    return dir_structure\n",
    "\n",
    "def save_structure_to_json(structure, json_path):\n",
    "    \"\"\"\n",
    "    Saves the directory structure to a JSON file\n",
    "    \"\"\"\n",
    "    with open(json_path, 'w') as json_file:\n",
    "        json.dump(structure, json_file, indent=4)\n",
    "\n",
    "def generate_json(directory):\n",
    "    \"\"\"\n",
    "    Generates the nested JSON file for the given directory\n",
    "    \"\"\"\n",
    "    if not os.path.isdir(directory):\n",
    "        print(\"The provided path is not a directory.\")\n",
    "        return\n",
    "\n",
    "    directory_structure = get_directory_structure(directory)\n",
    "    json_path = os.path.join(directory, 'directory_structure.json')\n",
    "    save_structure_to_json(directory_structure, json_path)\n",
    "    print(f\"Directory structure saved to {json_path}\")\n",
    "\n",
    "# Widget for directory input\n",
    "directory_input = widgets.Text(\n",
    "    value='',\n",
    "    placeholder='Enter directory path',\n",
    "    description='Directory:',\n",
    "    disabled=False\n",
    ")\n",
    "\n",
    "# Button to trigger JSON generation\n",
    "generate_button = widgets.Button(\n",
    "    description='Generate JSON',\n",
    "    disabled=False,\n",
    "    button_style='info',\n",
    "    tooltip='Click to generate JSON'\n",
    ")\n",
    "\n",
    "output = widgets.Output()\n",
    "\n",
    "def on_button_clicked(b):\n",
    "    with output:\n",
    "        output.clear_output()\n",
    "        directory = directory_input.value\n",
    "        generate_json(directory)\n",
    "\n",
    "generate_button.on_click(on_button_clicked)\n",
    "\n",
    "# Display widgets\n",
    "display(directory_input)\n",
    "display(generate_button)\n",
    "display(output)\n"
   ]
  }
 ],
 "metadata": {
  "kernelspec": {
   "display_name": "Python 3 (ipykernel)",
   "language": "python",
   "name": "python3"
  },
  "language_info": {
   "codemirror_mode": {
    "name": "ipython",
    "version": 3
   },
   "file_extension": ".py",
   "mimetype": "text/x-python",
   "name": "python",
   "nbconvert_exporter": "python",
   "pygments_lexer": "ipython3",
   "version": "3.12.4"
  }
 },
 "nbformat": 4,
 "nbformat_minor": 5
}
